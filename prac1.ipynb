{
 "cells": [
  {
   "metadata": {
    "ExecuteTime": {
     "end_time": "2025-09-06T11:46:54.670587Z",
     "start_time": "2025-09-06T11:46:54.668929Z"
    }
   },
   "cell_type": "code",
   "source": "import math",
   "id": "e19d7cc2e1178da6",
   "outputs": [],
   "execution_count": 6
  },
  {
   "metadata": {},
   "cell_type": "markdown",
   "source": [
    "2. Написать программу, которая вычисляет площадь фигуры,\n",
    "параметры которой подаются на вход. Фигуры, которые подаются на вход:\n",
    "треугольник, прямоугольник, круг. Результатом работы является словарь, где\n",
    "ключ – это название фигуры, а значение – это площадь."
   ],
   "id": "fc33cefb2808656f"
  },
  {
   "metadata": {
    "ExecuteTime": {
     "end_time": "2025-09-06T11:46:49.152459Z",
     "start_time": "2025-09-06T11:46:44.579323Z"
    }
   },
   "cell_type": "code",
   "source": [
    "trianA, trianB, trianAng = map(float, input(\"Triangle 2 sides and angle:\").split())\n",
    "print(trianA, trianB, trianAng)"
   ],
   "id": "fb42d2129a49aed4",
   "outputs": [
    {
     "name": "stdout",
     "output_type": "stream",
     "text": [
      "3.0 5.0 90.0\n"
     ]
    }
   ],
   "execution_count": 4
  },
  {
   "metadata": {
    "ExecuteTime": {
     "end_time": "2025-09-06T11:51:49.493486Z",
     "start_time": "2025-09-06T11:51:49.491344Z"
    }
   },
   "cell_type": "code",
   "source": "print(\"Triangle area:\", trianA * trianB / 2 * math.sin(math.radians(trianAng)))",
   "id": "fdb2c39565296cfa",
   "outputs": [
    {
     "name": "stdout",
     "output_type": "stream",
     "text": [
      "Triangle area: 7.5\n"
     ]
    }
   ],
   "execution_count": 10
  },
  {
   "metadata": {
    "ExecuteTime": {
     "end_time": "2025-09-06T11:52:57.192473Z",
     "start_time": "2025-09-06T11:52:52.577973Z"
    }
   },
   "cell_type": "code",
   "source": [
    "squareA, squareB = map(float, input(\"Rectangle 2 sides:\").split())\n",
    "print(squareA, squareB)"
   ],
   "id": "5f9e276496733f1c",
   "outputs": [
    {
     "name": "stdout",
     "output_type": "stream",
     "text": [
      "10.0 2.0\n"
     ]
    }
   ],
   "execution_count": 11
  },
  {
   "metadata": {
    "ExecuteTime": {
     "end_time": "2025-09-06T11:53:11.208864Z",
     "start_time": "2025-09-06T11:53:11.206867Z"
    }
   },
   "cell_type": "code",
   "source": "print(\"Rectangle area:\", squareA * squareB)",
   "id": "a244e8e1a11a83d8",
   "outputs": [
    {
     "name": "stdout",
     "output_type": "stream",
     "text": [
      "Rectangle square: 20.0\n"
     ]
    }
   ],
   "execution_count": 13
  },
  {
   "metadata": {
    "ExecuteTime": {
     "end_time": "2025-09-06T11:57:01.823007Z",
     "start_time": "2025-09-06T11:56:59.526750Z"
    }
   },
   "cell_type": "code",
   "source": [
    "circR = float(input(\"Circle radius:\"))\n",
    "print(circR)"
   ],
   "id": "d7d8d4553026afa4",
   "outputs": [
    {
     "name": "stdout",
     "output_type": "stream",
     "text": [
      "5.0\n"
     ]
    }
   ],
   "execution_count": 14
  },
  {
   "metadata": {
    "ExecuteTime": {
     "end_time": "2025-09-06T11:57:03.055597Z",
     "start_time": "2025-09-06T11:57:03.053593Z"
    }
   },
   "cell_type": "code",
   "source": "print(\"Circle area:\", circR * circR * math.pi)",
   "id": "2140962b1a78eb36",
   "outputs": [
    {
     "name": "stdout",
     "output_type": "stream",
     "text": [
      "Circle area: 78.53981633974483\n"
     ]
    }
   ],
   "execution_count": 15
  },
  {
   "metadata": {},
   "cell_type": "markdown",
   "source": [
    "3. Написать программу, которая на вход получает два числа и\n",
    "операцию, которую к ним нужно применить. Должны быть реализованы\n",
    "следующие операции: +, -, /, //, abs – модуль, pow или ** – возведение в\n",
    "степень."
   ],
   "id": "1df4de3b756b8ac"
  },
  {
   "metadata": {
    "ExecuteTime": {
     "end_time": "2025-09-06T12:03:33.810194Z",
     "start_time": "2025-09-06T12:03:16.778579Z"
    }
   },
   "cell_type": "code",
   "source": [
    "calcA, calcB = map(float, input(\"Numbers: \").split())\n",
    "op = input(\"Operation (+, -, /, //, abs, pow, **): \").strip()\n",
    "\n",
    "result = None\n",
    "\n",
    "if op == \"+\":\n",
    "    result = calcA + calcB\n",
    "elif op == \"-\":\n",
    "    result = calcA - calcB\n",
    "elif op == \"/\":\n",
    "    if calcB != 0:\n",
    "        result = calcA / calcB\n",
    "    else:\n",
    "        result = \"error\"\n",
    "elif op == \"//\":\n",
    "    if calcB != 0:\n",
    "        result = calcA // calcB\n",
    "    else:\n",
    "        result = \"error\"\n",
    "elif op == \"abs\":\n",
    "    result = (abs(calcA), abs(calcB))\n",
    "elif op in (\"pow\", \"**\"):\n",
    "    result = calcA ** calcB\n",
    "else:\n",
    "    result = \"error\"\n",
    "\n",
    "print(\"Result:\", result)"
   ],
   "id": "12e11b394cba4e0b",
   "outputs": [
    {
     "name": "stdout",
     "output_type": "stream",
     "text": [
      "Result: 125.0\n"
     ]
    }
   ],
   "execution_count": 16
  },
  {
   "metadata": {},
   "cell_type": "markdown",
   "source": [
    "4. Напишите программу, которая считывает с консоли числа (по\n",
    "одному в строке) до тех пор, пока сумма введённых чисел не будет равна 0 и\n",
    "после этого выводит сумму квадратов всех считанных чисел."
   ],
   "id": "d5581a1edd5e1c24"
  },
  {
   "metadata": {
    "ExecuteTime": {
     "end_time": "2025-09-06T12:06:02.703777Z",
     "start_time": "2025-09-06T12:05:50.923390Z"
    }
   },
   "cell_type": "code",
   "source": [
    "numbers = []\n",
    "total = 0\n",
    "\n",
    "while True:\n",
    "    num = int(input())\n",
    "    numbers.append(num)\n",
    "    total += num\n",
    "    if total == 0:\n",
    "        break\n",
    "\n",
    "print(\"Square sum:\", sum(x ** 2 for x in numbers))"
   ],
   "id": "10cd50258a7bc7e5",
   "outputs": [
    {
     "name": "stdout",
     "output_type": "stream",
     "text": [
      "Square sum: 38\n"
     ]
    }
   ],
   "execution_count": 17
  },
  {
   "metadata": {},
   "cell_type": "markdown",
   "source": [
    "5. Напишите программу, которая выводит последовательность\n",
    "чисел, длинною N, где каждое число повторяется столько раз, чему оно равно.\n",
    "На вход программе передаётся неотрицательное целое число N. Например,\n",
    "если N = 7, то программа должна вывести 1 2 2 3 3 3 4. Вывод элементов списка\n",
    "через пробел – print(*list)."
   ],
   "id": "63c897c99cba36a2"
  },
  {
   "metadata": {
    "ExecuteTime": {
     "end_time": "2025-09-06T12:09:59.095201Z",
     "start_time": "2025-09-06T12:09:54.866394Z"
    }
   },
   "cell_type": "code",
   "source": [
    "N = int(input(\"N: \"))\n",
    "result = []\n",
    "num = 1\n",
    "\n",
    "while len(result) < N:\n",
    "    result.extend([num] * num)\n",
    "    num += 1\n",
    "\n",
    "result = result[:N]\n",
    "print(*result)"
   ],
   "id": "7679d6ef3fbd71f1",
   "outputs": [
    {
     "name": "stdout",
     "output_type": "stream",
     "text": [
      "1 2 2 3 3 3 4\n"
     ]
    }
   ],
   "execution_count": 18
  },
  {
   "metadata": {},
   "cell_type": "markdown",
   "source": [
    "6. Даны два списка:\n",
    "А = [1, 2, 3, 4, 2, 1, 3, 4, 5, 6, 5, 4, 3, 2]\n",
    "В = ['a', 'b', 'c', 'c', 'c', 'b', 'a', 'c', 'a', 'a', 'b', 'c', 'b', 'a']\n",
    "Создать словарь, в котором ключи – это содержимое списка В, а\n",
    "значения для ключей словаря – это сумма всех элементов списка А в\n",
    "соответствии с буквой, содержащийся на той же позиции в списке В.\n",
    "Пример результата программы: {'a' : 10, 'b' : 15, 'c' : 6}."
   ],
   "id": "3a8d8da5e36080a1"
  },
  {
   "metadata": {
    "ExecuteTime": {
     "end_time": "2025-09-06T12:17:51.674806Z",
     "start_time": "2025-09-06T12:17:51.672341Z"
    }
   },
   "cell_type": "code",
   "source": [
    "A = [1, 2, 3, 4, 2, 1, 3, 4, 5, 6, 5, 4, 3, 2]\n",
    "B = ['a', 'b', 'c', 'c', 'c', 'b', 'a', 'c', 'a', 'a', 'b', 'c', 'b', 'a']\n",
    "result = {}\n",
    "\n",
    "for num, key in zip(A, B):\n",
    "    result[key] = result.get(key, 0) + num\n",
    "\n",
    "print(result)"
   ],
   "id": "957a914c8b0d46ee",
   "outputs": [
    {
     "name": "stdout",
     "output_type": "stream",
     "text": [
      "{'a': 17, 'b': 11, 'c': 17}\n"
     ]
    }
   ],
   "execution_count": 20
  },
  {
   "metadata": {},
   "cell_type": "markdown",
   "source": [
    "Скачать и загрузить данные о стоимости домов в калифорнии,\n",
    "используя библиотеку sklearn."
   ],
   "id": "a4ba0aae2868118"
  },
  {
   "metadata": {
    "ExecuteTime": {
     "end_time": "2025-09-06T12:25:13.572246Z",
     "start_time": "2025-09-06T12:25:13.564201Z"
    }
   },
   "cell_type": "code",
   "source": [
    "from sklearn.datasets import fetch_california_housing\n",
    "data = fetch_california_housing(as_frame=True)\n",
    "import pandas as pd\n",
    "\n",
    "df = data.frame"
   ],
   "id": "f6432e753acc57be",
   "outputs": [],
   "execution_count": 33
  },
  {
   "metadata": {},
   "cell_type": "markdown",
   "source": "9. Узнать, есть ли пропущенные значения, используя isna().sum().",
   "id": "f3b6fd9b67f384cb"
  },
  {
   "metadata": {
    "ExecuteTime": {
     "end_time": "2025-09-06T12:25:22.967187Z",
     "start_time": "2025-09-06T12:25:22.962223Z"
    }
   },
   "cell_type": "code",
   "source": "df.isna().sum()",
   "id": "ee7bce0f1e208a70",
   "outputs": [
    {
     "data": {
      "text/plain": [
       "MedInc         0\n",
       "HouseAge       0\n",
       "AveRooms       0\n",
       "AveBedrms      0\n",
       "Population     0\n",
       "AveOccup       0\n",
       "Latitude       0\n",
       "Longitude      0\n",
       "MedHouseVal    0\n",
       "dtype: int64"
      ]
     },
     "execution_count": 34,
     "metadata": {},
     "output_type": "execute_result"
    }
   ],
   "execution_count": 34
  },
  {
   "metadata": {},
   "cell_type": "markdown",
   "source": [
    "10. Вывести записи, где средний возраст домов в районе более 50 лет и\n",
    "население более 2500 человек, используя метод loc()."
   ],
   "id": "8cf7cfb9a3587722"
  },
  {
   "metadata": {
    "ExecuteTime": {
     "end_time": "2025-09-06T12:27:07.188976Z",
     "start_time": "2025-09-06T12:27:07.179988Z"
    }
   },
   "cell_type": "code",
   "source": "df.loc[(df['HouseAge'] > 50) & (df['Population'] > 2500)]",
   "id": "31f426c5b544baec",
   "outputs": [
    {
     "data": {
      "text/plain": [
       "       MedInc  HouseAge  AveRooms  AveBedrms  Population    AveOccup  \\\n",
       "460    1.4012      52.0  3.105714   1.060000      3337.0    9.534286   \n",
       "4131   3.5349      52.0  4.646119   1.047945      2589.0    5.910959   \n",
       "4440   2.6806      52.0  4.806283   1.057592      3062.0    4.007853   \n",
       "5986   1.8750      52.0  4.500000   1.206349      2688.0   21.333333   \n",
       "7369   3.1901      52.0  4.730942   1.017937      3731.0    4.182735   \n",
       "8227   2.3305      52.0  3.488860   1.170380      3018.0    3.955439   \n",
       "13034  6.1359      52.0  8.275862   1.517241      6675.0  230.172414   \n",
       "15634  1.8295      52.0  2.628169   1.053521      2957.0    4.164789   \n",
       "15652  0.9000      52.0  2.237474   1.053535      3260.0    2.237474   \n",
       "15657  2.5166      52.0  2.839075   1.184049      3436.0    1.621520   \n",
       "15659  1.7240      52.0  2.278566   1.082348      4518.0    1.780142   \n",
       "15795  2.5755      52.0  3.402576   1.058776      2619.0    2.108696   \n",
       "15868  2.8135      52.0  4.584329   1.041169      2987.0    3.966799   \n",
       "\n",
       "       Latitude  Longitude  MedHouseVal  \n",
       "460       37.87    -122.26      1.75000  \n",
       "4131      34.13    -118.20      1.93600  \n",
       "4440      34.08    -118.21      1.53000  \n",
       "5986      34.10    -117.71      2.12500  \n",
       "7369      33.97    -118.21      1.67600  \n",
       "8227      33.78    -118.20      1.62500  \n",
       "13034     38.69    -121.15      2.25000  \n",
       "15634     37.80    -122.41      2.43800  \n",
       "15652     37.80    -122.41      5.00001  \n",
       "15657     37.79    -122.41      2.75000  \n",
       "15659     37.79    -122.41      2.25000  \n",
       "15795     37.77    -122.42      3.25000  \n",
       "15868     37.76    -122.41      2.60300  "
      ],
      "text/html": [
       "<div>\n",
       "<style scoped>\n",
       "    .dataframe tbody tr th:only-of-type {\n",
       "        vertical-align: middle;\n",
       "    }\n",
       "\n",
       "    .dataframe tbody tr th {\n",
       "        vertical-align: top;\n",
       "    }\n",
       "\n",
       "    .dataframe thead th {\n",
       "        text-align: right;\n",
       "    }\n",
       "</style>\n",
       "<table border=\"1\" class=\"dataframe\">\n",
       "  <thead>\n",
       "    <tr style=\"text-align: right;\">\n",
       "      <th></th>\n",
       "      <th>MedInc</th>\n",
       "      <th>HouseAge</th>\n",
       "      <th>AveRooms</th>\n",
       "      <th>AveBedrms</th>\n",
       "      <th>Population</th>\n",
       "      <th>AveOccup</th>\n",
       "      <th>Latitude</th>\n",
       "      <th>Longitude</th>\n",
       "      <th>MedHouseVal</th>\n",
       "    </tr>\n",
       "  </thead>\n",
       "  <tbody>\n",
       "    <tr>\n",
       "      <th>460</th>\n",
       "      <td>1.4012</td>\n",
       "      <td>52.0</td>\n",
       "      <td>3.105714</td>\n",
       "      <td>1.060000</td>\n",
       "      <td>3337.0</td>\n",
       "      <td>9.534286</td>\n",
       "      <td>37.87</td>\n",
       "      <td>-122.26</td>\n",
       "      <td>1.75000</td>\n",
       "    </tr>\n",
       "    <tr>\n",
       "      <th>4131</th>\n",
       "      <td>3.5349</td>\n",
       "      <td>52.0</td>\n",
       "      <td>4.646119</td>\n",
       "      <td>1.047945</td>\n",
       "      <td>2589.0</td>\n",
       "      <td>5.910959</td>\n",
       "      <td>34.13</td>\n",
       "      <td>-118.20</td>\n",
       "      <td>1.93600</td>\n",
       "    </tr>\n",
       "    <tr>\n",
       "      <th>4440</th>\n",
       "      <td>2.6806</td>\n",
       "      <td>52.0</td>\n",
       "      <td>4.806283</td>\n",
       "      <td>1.057592</td>\n",
       "      <td>3062.0</td>\n",
       "      <td>4.007853</td>\n",
       "      <td>34.08</td>\n",
       "      <td>-118.21</td>\n",
       "      <td>1.53000</td>\n",
       "    </tr>\n",
       "    <tr>\n",
       "      <th>5986</th>\n",
       "      <td>1.8750</td>\n",
       "      <td>52.0</td>\n",
       "      <td>4.500000</td>\n",
       "      <td>1.206349</td>\n",
       "      <td>2688.0</td>\n",
       "      <td>21.333333</td>\n",
       "      <td>34.10</td>\n",
       "      <td>-117.71</td>\n",
       "      <td>2.12500</td>\n",
       "    </tr>\n",
       "    <tr>\n",
       "      <th>7369</th>\n",
       "      <td>3.1901</td>\n",
       "      <td>52.0</td>\n",
       "      <td>4.730942</td>\n",
       "      <td>1.017937</td>\n",
       "      <td>3731.0</td>\n",
       "      <td>4.182735</td>\n",
       "      <td>33.97</td>\n",
       "      <td>-118.21</td>\n",
       "      <td>1.67600</td>\n",
       "    </tr>\n",
       "    <tr>\n",
       "      <th>8227</th>\n",
       "      <td>2.3305</td>\n",
       "      <td>52.0</td>\n",
       "      <td>3.488860</td>\n",
       "      <td>1.170380</td>\n",
       "      <td>3018.0</td>\n",
       "      <td>3.955439</td>\n",
       "      <td>33.78</td>\n",
       "      <td>-118.20</td>\n",
       "      <td>1.62500</td>\n",
       "    </tr>\n",
       "    <tr>\n",
       "      <th>13034</th>\n",
       "      <td>6.1359</td>\n",
       "      <td>52.0</td>\n",
       "      <td>8.275862</td>\n",
       "      <td>1.517241</td>\n",
       "      <td>6675.0</td>\n",
       "      <td>230.172414</td>\n",
       "      <td>38.69</td>\n",
       "      <td>-121.15</td>\n",
       "      <td>2.25000</td>\n",
       "    </tr>\n",
       "    <tr>\n",
       "      <th>15634</th>\n",
       "      <td>1.8295</td>\n",
       "      <td>52.0</td>\n",
       "      <td>2.628169</td>\n",
       "      <td>1.053521</td>\n",
       "      <td>2957.0</td>\n",
       "      <td>4.164789</td>\n",
       "      <td>37.80</td>\n",
       "      <td>-122.41</td>\n",
       "      <td>2.43800</td>\n",
       "    </tr>\n",
       "    <tr>\n",
       "      <th>15652</th>\n",
       "      <td>0.9000</td>\n",
       "      <td>52.0</td>\n",
       "      <td>2.237474</td>\n",
       "      <td>1.053535</td>\n",
       "      <td>3260.0</td>\n",
       "      <td>2.237474</td>\n",
       "      <td>37.80</td>\n",
       "      <td>-122.41</td>\n",
       "      <td>5.00001</td>\n",
       "    </tr>\n",
       "    <tr>\n",
       "      <th>15657</th>\n",
       "      <td>2.5166</td>\n",
       "      <td>52.0</td>\n",
       "      <td>2.839075</td>\n",
       "      <td>1.184049</td>\n",
       "      <td>3436.0</td>\n",
       "      <td>1.621520</td>\n",
       "      <td>37.79</td>\n",
       "      <td>-122.41</td>\n",
       "      <td>2.75000</td>\n",
       "    </tr>\n",
       "    <tr>\n",
       "      <th>15659</th>\n",
       "      <td>1.7240</td>\n",
       "      <td>52.0</td>\n",
       "      <td>2.278566</td>\n",
       "      <td>1.082348</td>\n",
       "      <td>4518.0</td>\n",
       "      <td>1.780142</td>\n",
       "      <td>37.79</td>\n",
       "      <td>-122.41</td>\n",
       "      <td>2.25000</td>\n",
       "    </tr>\n",
       "    <tr>\n",
       "      <th>15795</th>\n",
       "      <td>2.5755</td>\n",
       "      <td>52.0</td>\n",
       "      <td>3.402576</td>\n",
       "      <td>1.058776</td>\n",
       "      <td>2619.0</td>\n",
       "      <td>2.108696</td>\n",
       "      <td>37.77</td>\n",
       "      <td>-122.42</td>\n",
       "      <td>3.25000</td>\n",
       "    </tr>\n",
       "    <tr>\n",
       "      <th>15868</th>\n",
       "      <td>2.8135</td>\n",
       "      <td>52.0</td>\n",
       "      <td>4.584329</td>\n",
       "      <td>1.041169</td>\n",
       "      <td>2987.0</td>\n",
       "      <td>3.966799</td>\n",
       "      <td>37.76</td>\n",
       "      <td>-122.41</td>\n",
       "      <td>2.60300</td>\n",
       "    </tr>\n",
       "  </tbody>\n",
       "</table>\n",
       "</div>"
      ]
     },
     "execution_count": 35,
     "metadata": {},
     "output_type": "execute_result"
    }
   ],
   "execution_count": 35
  },
  {
   "metadata": {},
   "cell_type": "markdown",
   "source": [
    "11. Узнать максимальное и минимальное значения медианной\n",
    "стоимости дома."
   ],
   "id": "f2628af9b22807a7"
  },
  {
   "metadata": {
    "ExecuteTime": {
     "end_time": "2025-09-06T12:31:20.982068Z",
     "start_time": "2025-09-06T12:31:20.979652Z"
    }
   },
   "cell_type": "code",
   "source": "print(\"max:\", df['MedHouseVal'].max(), \"min:\", df['MedHouseVal'].min())\n",
   "id": "ce0bec93ebe195b7",
   "outputs": [
    {
     "name": "stdout",
     "output_type": "stream",
     "text": [
      "max: 5.00001 min: 0.14999\n"
     ]
    }
   ],
   "execution_count": 37
  },
  {
   "metadata": {},
   "cell_type": "markdown",
   "source": "12. Используя метод apply(), вывести на экран название признака и его среднее значение.",
   "id": "cc6dfb3d00646729"
  },
  {
   "metadata": {
    "ExecuteTime": {
     "end_time": "2025-09-06T12:32:26.061629Z",
     "start_time": "2025-09-06T12:32:26.058152Z"
    }
   },
   "cell_type": "code",
   "source": [
    "df_mean = df.apply(lambda x: x.mean())\n",
    "\n",
    "for col, mean_val in df_mean.items():\n",
    "    print(f\"{col}: {mean_val}\")"
   ],
   "id": "47a2a4ebacb51e49",
   "outputs": [
    {
     "name": "stdout",
     "output_type": "stream",
     "text": [
      "MedInc: 3.8706710029069766\n",
      "HouseAge: 28.639486434108527\n",
      "AveRooms: 5.428999742190376\n",
      "AveBedrms: 1.096675149606208\n",
      "Population: 1425.4767441860465\n",
      "AveOccup: 3.0706551594363742\n",
      "Latitude: 35.63186143410852\n",
      "Longitude: -119.56970445736432\n",
      "MedHouseVal: 2.0685581690891475\n"
     ]
    }
   ],
   "execution_count": 38
  },
  {
   "metadata": {},
   "cell_type": "markdown",
   "source": "1.*",
   "id": "b8c06460bfb04b68"
  },
  {
   "metadata": {
    "ExecuteTime": {
     "end_time": "2025-09-06T12:41:37.836006Z",
     "start_time": "2025-09-06T12:41:28.271803Z"
    }
   },
   "cell_type": "code",
   "source": [
    "morze = {\n",
    "    'a': '.-', 'b': '-...', 'c': '-.-.', 'd': '-..',\n",
    "    'e': '.', 'f': '..-.', 'g': '--.', 'h': '....',\n",
    "    'i': '..', 'j': '.---', 'k': '-.-', 'l': '.-..',\n",
    "    'm': '--', 'n': '-.', 'o': '---', 'p': '.--.',\n",
    "    'q': '--.-', 'r': '.-.', 's': '...', 't': '-',\n",
    "    'u': '..-', 'v': '...-', 'w': '.--', 'x': '-..-',\n",
    "    'y': '-.--', 'z': '--..'\n",
    "}\n",
    "\n",
    "text = input(\"text: \")\n",
    "words = text.lower().split()\n",
    "for word in words:\n",
    "    morse_word = ' '.join(morze[char] for char in word if char in morze)\n",
    "    print(morse_word)\n"
   ],
   "id": "392af84b8a249138",
   "outputs": [
    {
     "name": "stdout",
     "output_type": "stream",
     "text": [
      ".. --. -. .. - .. --- -.\n",
      "... . --.- ..- . -. -.-. .\n",
      "... - .- .-. -\n"
     ]
    }
   ],
   "execution_count": 39
  },
  {
   "metadata": {},
   "cell_type": "markdown",
   "source": "2.*",
   "id": "ec3b66f244a88f4a"
  },
  {
   "metadata": {
    "ExecuteTime": {
     "end_time": "2025-09-06T13:09:52.817197Z",
     "start_time": "2025-09-06T13:09:46.663671Z"
    }
   },
   "cell_type": "code",
   "source": [
    "n = int(input())\n",
    "data = []\n",
    "for _ in range(n):\n",
    "    data.append(input())\n",
    "database = {}\n",
    "result = []\n",
    "\n",
    "for i in range(n):\n",
    "     name = data[i].strip()\n",
    "\n",
    "     if name not in database:\n",
    "         database[name] = 1\n",
    "         result.append(\"OK\")\n",
    "     else:\n",
    "         count = database[name]\n",
    "         while f\"{name}{count}\" in database:\n",
    "             count += 1\n",
    "         new_name = f\"{name}{count}\"\n",
    "         database[new_name] = 1\n",
    "         database[name] = count + 1\n",
    "         result.append(new_name)\n",
    "\n",
    "for res in result:\n",
    "     print(res)"
   ],
   "id": "74f91e4fede76",
   "outputs": [
    {
     "name": "stdout",
     "output_type": "stream",
     "text": [
      "OK\n",
      "b1\n",
      "b2\n"
     ]
    }
   ],
   "execution_count": 43
  }
 ],
 "metadata": {
  "kernelspec": {
   "display_name": "Python 3",
   "language": "python",
   "name": "python3"
  },
  "language_info": {
   "codemirror_mode": {
    "name": "ipython",
    "version": 2
   },
   "file_extension": ".py",
   "mimetype": "text/x-python",
   "name": "python",
   "nbconvert_exporter": "python",
   "pygments_lexer": "ipython2",
   "version": "2.7.6"
  }
 },
 "nbformat": 4,
 "nbformat_minor": 5
}
